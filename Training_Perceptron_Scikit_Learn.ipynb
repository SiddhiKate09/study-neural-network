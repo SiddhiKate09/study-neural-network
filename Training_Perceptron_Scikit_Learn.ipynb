{
  "nbformat": 4,
  "nbformat_minor": 0,
  "metadata": {
    "colab": {
      "provenance": [],
      "authorship_tag": "ABX9TyOxiMghE8DwSQOu5QF0pCld",
      "include_colab_link": true
    },
    "kernelspec": {
      "name": "python3",
      "display_name": "Python 3"
    },
    "language_info": {
      "name": "python"
    }
  },
  "cells": [
    {
      "cell_type": "markdown",
      "metadata": {
        "id": "view-in-github",
        "colab_type": "text"
      },
      "source": [
        "<a href=\"https://colab.research.google.com/github/SiddhiKate09/study-neural-network/blob/main/Training_Perceptron_Scikit_Learn.ipynb\" target=\"_parent\"><img src=\"https://colab.research.google.com/assets/colab-badge.svg\" alt=\"Open In Colab\"/></a>"
      ]
    },
    {
      "cell_type": "code",
      "execution_count": null,
      "metadata": {
        "colab": {
          "base_uri": "https://localhost:8080/"
        },
        "id": "1C4B2AIjs7-N",
        "outputId": "75608d5b-9e1d-4c57-aec6-8b885e66770b"
      },
      "outputs": [
        {
          "output_type": "stream",
          "name": "stdout",
          "text": [
            "Collecting Perceptron\n",
            "  Downloading perceptron-0.1.1-py3-none-any.whl.metadata (6.8 kB)\n",
            "Requirement already satisfied: requests>=2.31.0 in /usr/local/lib/python3.12/dist-packages (from Perceptron) (2.32.4)\n",
            "Requirement already satisfied: rich>=13 in /usr/local/lib/python3.12/dist-packages (from Perceptron) (13.9.4)\n",
            "Requirement already satisfied: typer>=0.9.0 in /usr/local/lib/python3.12/dist-packages (from Perceptron) (0.19.2)\n",
            "Requirement already satisfied: Pillow>=9.0.0 in /usr/local/lib/python3.12/dist-packages (from Perceptron) (11.3.0)\n",
            "Requirement already satisfied: numpy>=1.24 in /usr/local/lib/python3.12/dist-packages (from Perceptron) (2.0.2)\n",
            "Requirement already satisfied: httpx>=0.26.0 in /usr/local/lib/python3.12/dist-packages (from Perceptron) (0.28.1)\n",
            "Requirement already satisfied: shellingham>=1.5.0 in /usr/local/lib/python3.12/dist-packages (from Perceptron) (1.5.4)\n",
            "Collecting colorama>=0.4.6 (from Perceptron)\n",
            "  Downloading colorama-0.4.6-py2.py3-none-any.whl.metadata (17 kB)\n",
            "Requirement already satisfied: anyio in /usr/local/lib/python3.12/dist-packages (from httpx>=0.26.0->Perceptron) (4.11.0)\n",
            "Requirement already satisfied: certifi in /usr/local/lib/python3.12/dist-packages (from httpx>=0.26.0->Perceptron) (2025.8.3)\n",
            "Requirement already satisfied: httpcore==1.* in /usr/local/lib/python3.12/dist-packages (from httpx>=0.26.0->Perceptron) (1.0.9)\n",
            "Requirement already satisfied: idna in /usr/local/lib/python3.12/dist-packages (from httpx>=0.26.0->Perceptron) (3.10)\n",
            "Requirement already satisfied: h11>=0.16 in /usr/local/lib/python3.12/dist-packages (from httpcore==1.*->httpx>=0.26.0->Perceptron) (0.16.0)\n",
            "Requirement already satisfied: charset_normalizer<4,>=2 in /usr/local/lib/python3.12/dist-packages (from requests>=2.31.0->Perceptron) (3.4.3)\n",
            "Requirement already satisfied: urllib3<3,>=1.21.1 in /usr/local/lib/python3.12/dist-packages (from requests>=2.31.0->Perceptron) (2.5.0)\n",
            "Requirement already satisfied: markdown-it-py>=2.2.0 in /usr/local/lib/python3.12/dist-packages (from rich>=13->Perceptron) (4.0.0)\n",
            "Requirement already satisfied: pygments<3.0.0,>=2.13.0 in /usr/local/lib/python3.12/dist-packages (from rich>=13->Perceptron) (2.19.2)\n",
            "Requirement already satisfied: click>=8.0.0 in /usr/local/lib/python3.12/dist-packages (from typer>=0.9.0->Perceptron) (8.3.0)\n",
            "Requirement already satisfied: typing-extensions>=3.7.4.3 in /usr/local/lib/python3.12/dist-packages (from typer>=0.9.0->Perceptron) (4.15.0)\n",
            "Requirement already satisfied: mdurl~=0.1 in /usr/local/lib/python3.12/dist-packages (from markdown-it-py>=2.2.0->rich>=13->Perceptron) (0.1.2)\n",
            "Requirement already satisfied: sniffio>=1.1 in /usr/local/lib/python3.12/dist-packages (from anyio->httpx>=0.26.0->Perceptron) (1.3.1)\n",
            "Downloading perceptron-0.1.1-py3-none-any.whl (47 kB)\n",
            "\u001b[2K   \u001b[90m━━━━━━━━━━━━━━━━━━━━━━━━━━━━━━━━━━━━━━━━\u001b[0m \u001b[32m47.7/47.7 kB\u001b[0m \u001b[31m1.3 MB/s\u001b[0m eta \u001b[36m0:00:00\u001b[0m\n",
            "\u001b[?25hDownloading colorama-0.4.6-py2.py3-none-any.whl (25 kB)\n",
            "Installing collected packages: colorama, Perceptron\n",
            "Successfully installed Perceptron-0.1.1 colorama-0.4.6\n"
          ]
        }
      ],
      "source": [
        "!pip install Perceptron\n",
        "from sklearn.linear_model import Perceptron\n",
        "from sklearn.datasets import make_classification\n",
        "from sklearn.model_selection import train_test_split"
      ]
    },
    {
      "cell_type": "code",
      "source": [
        "X,y=make_classification(n_samples=100,n_features=4,n_classes=2,random_state=42)\n",
        "X_train,X_test,y_train,y_test=train_test_split(X,y,random_state=42)"
      ],
      "metadata": {
        "id": "l8TXOsW5v-d6"
      },
      "execution_count": null,
      "outputs": []
    },
    {
      "cell_type": "code",
      "source": [
        "clf=Perceptron(\n",
        "    max_iter=100,\n",
        "    eta0=0.1,\n",
        "    tol=1e-3,\n",
        "    random_state=42,\n",
        "    shuffle=True\n",
        ")\n",
        "clf.fit(X_train,y_train)\n",
        "accuracy=clf.score(X_test,y_test)\n",
        "print(f\"Accuracy: {accuracy}\")"
      ],
      "metadata": {
        "colab": {
          "base_uri": "https://localhost:8080/"
        },
        "id": "xrBV351LxF-9",
        "outputId": "b4330ced-36a4-4c86-c474-69da71dc62cc"
      },
      "execution_count": null,
      "outputs": [
        {
          "output_type": "stream",
          "name": "stdout",
          "text": [
            "Accuracy: 0.96\n"
          ]
        }
      ]
    }
  ]
}